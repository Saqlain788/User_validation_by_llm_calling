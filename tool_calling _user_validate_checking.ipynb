{
  "nbformat": 4,
  "nbformat_minor": 0,
  "metadata": {
    "colab": {
      "provenance": []
    },
    "kernelspec": {
      "name": "python3",
      "display_name": "Python 3"
    },
    "language_info": {
      "name": "python"
    }
  },
  "cells": [
    {
      "cell_type": "markdown",
      "source": [
        "### Step 1: Install Dependencies"
      ],
      "metadata": {
        "id": "URoCemn-sYyz"
      }
    },
    {
      "cell_type": "code",
      "execution_count": 65,
      "metadata": {
        "id": "Ktsl2yodEyxh"
      },
      "outputs": [],
      "source": [
        "%%capture --no-stderr\n",
        "!pip install -qU langchain langchain-google-genai langgraph"
      ]
    },
    {
      "cell_type": "markdown",
      "source": [
        "### Step 2: Retrieve API Key"
      ],
      "metadata": {
        "id": "vSQWhyuHsjyh"
      }
    },
    {
      "cell_type": "code",
      "source": [
        "from google.colab import userdata\n",
        "GEMINI_API_KEY = userdata.get('GEMINI_API_KEY')"
      ],
      "metadata": {
        "id": "BQR-V91vFBY_"
      },
      "execution_count": 13,
      "outputs": []
    },
    {
      "cell_type": "markdown",
      "source": [
        "### Step 3: Initialize Language Model"
      ],
      "metadata": {
        "id": "Flttn9X-srH5"
      }
    },
    {
      "cell_type": "code",
      "source": [
        "from langchain_google_genai import ChatGoogleGenerativeAI\n",
        "llm: ChatGoogleGenerativeAI = ChatGoogleGenerativeAI(model=\"gemini-1.5-flash\", api_key=GEMINI_API_KEY)"
      ],
      "metadata": {
        "id": "OQ9CJohiFILO"
      },
      "execution_count": 14,
      "outputs": []
    },
    {
      "cell_type": "markdown",
      "source": [
        "### Step 5: Define TypedDict Classes and User Validation Function"
      ],
      "metadata": {
        "id": "4LVOhDrCs3rp"
      }
    },
    {
      "cell_type": "code",
      "source": [
        "from typing import List\n",
        "from typing_extensions import TypedDict\n",
        "\n",
        "class Address(TypedDict):\n",
        "    street: str\n",
        "    city: str\n",
        "    state: str\n",
        "\n",
        "class User(TypedDict):\n",
        "    user_id: int\n",
        "    name: str\n",
        "\n",
        "# Function to validate user\n",
        "def validate_user(user: List[User], addresses: List[Address]) -> bool:\n",
        "    \"\"\"Validate user using historical addresses.\n",
        "\n",
        "    Args:\n",
        "        user: List[User].\n",
        "        addresses: List[Address].\n",
        "    \"\"\"\n",
        "    return True\n"
      ],
      "metadata": {
        "id": "iqwgV9jaFdl9"
      },
      "execution_count": 45,
      "outputs": []
    },
    {
      "cell_type": "markdown",
      "source": [
        "### Step 6: Bind Tools to LLM"
      ],
      "metadata": {
        "id": "QSV8ab01s6vB"
      }
    },
    {
      "cell_type": "code",
      "source": [
        "llm_with_tools = llm.bind_tools([validate_user])"
      ],
      "metadata": {
        "colab": {
          "base_uri": "https://localhost:8080/"
        },
        "id": "cJ_-hQl3F7mI",
        "outputId": "205910b1-a7aa-4860-b847-b9620af27b31"
      },
      "execution_count": 46,
      "outputs": [
        {
          "output_type": "stream",
          "name": "stderr",
          "text": [
            "WARNING:langchain_google_genai._function_utils:Key '$defs' is not supported in schema, ignoring\n",
            "WARNING:langchain_google_genai._function_utils:Key 'title' is not supported in schema, ignoring\n",
            "WARNING:langchain_google_genai._function_utils:Key 'title' is not supported in schema, ignoring\n",
            "WARNING:langchain_google_genai._function_utils:Key 'title' is not supported in schema, ignoring\n",
            "WARNING:langchain_google_genai._function_utils:Key 'title' is not supported in schema, ignoring\n",
            "WARNING:langchain_google_genai._function_utils:Key 'title' is not supported in schema, ignoring\n",
            "WARNING:langchain_google_genai._function_utils:Key 'title' is not supported in schema, ignoring\n",
            "WARNING:langchain_google_genai._function_utils:Key 'title' is not supported in schema, ignoring\n",
            "WARNING:langchain_google_genai._function_utils:Key 'title' is not supported in schema, ignoring\n",
            "WARNING:langchain_google_genai._function_utils:Key 'title' is not supported in schema, ignoring\n",
            "WARNING:langchain_google_genai._function_utils:Key 'title' is not supported in schema, ignoring\n"
          ]
        }
      ]
    },
    {
      "cell_type": "markdown",
      "source": [
        "### Step 7: Invoke LLM with Tools\n"
      ],
      "metadata": {
        "id": "qSrFAiPytENp"
      }
    },
    {
      "cell_type": "code",
      "source": [
        "from langchain_core.messages import HumanMessage\n",
        "call = llm_with_tools.invoke(\n",
        "    [HumanMessage(content=f\"Could you validate user Muhammad Saqlain with 12? He lives at \"\n",
        "    \"St No. 2 in Kasur, Punjab\")])\n",
        "print(call)"
      ],
      "metadata": {
        "colab": {
          "base_uri": "https://localhost:8080/"
        },
        "id": "awq9SZRDGMJf",
        "outputId": "3e4fa4cc-9e8f-4c59-cf1f-aeb569af5cb5"
      },
      "execution_count": 47,
      "outputs": [
        {
          "output_type": "stream",
          "name": "stdout",
          "text": [
            "{'name': 'validate_user', 'description': 'Validate user using historical addresses.\\n\\n    Args:\\n        user: List[User].\\n        addresses: List[Address].', 'parameters': {'type_': 6, 'description': 'Validate user using historical addresses.\\n\\nArgs:\\n    user: List[User].\\n    addresses: List[Address].', 'properties': {'user': {'type_': 5, 'items': {'type_': 6, 'properties': {'user_id': {'type_': 3, 'format_': '', 'description': '', 'nullable': False, 'enum': [], 'max_items': '0', 'min_items': '0', 'properties': {}, 'required': []}, 'name': {'type_': 1, 'format_': '', 'description': '', 'nullable': False, 'enum': [], 'max_items': '0', 'min_items': '0', 'properties': {}, 'required': []}}, 'required': ['user_id', 'name'], 'format_': '', 'description': '', 'nullable': False, 'enum': [], 'max_items': '0', 'min_items': '0'}, 'format_': '', 'description': '', 'nullable': False, 'enum': [], 'max_items': '0', 'min_items': '0', 'properties': {}, 'required': []}, 'addresses': {'type_': 5, 'items': {'type_': 6, 'properties': {'city': {'type_': 1, 'format_': '', 'description': '', 'nullable': False, 'enum': [], 'max_items': '0', 'min_items': '0', 'properties': {}, 'required': []}, 'state': {'type_': 1, 'format_': '', 'description': '', 'nullable': False, 'enum': [], 'max_items': '0', 'min_items': '0', 'properties': {}, 'required': []}, 'street': {'type_': 1, 'format_': '', 'description': '', 'nullable': False, 'enum': [], 'max_items': '0', 'min_items': '0', 'properties': {}, 'required': []}}, 'required': ['street', 'city', 'state'], 'format_': '', 'description': '', 'nullable': False, 'enum': [], 'max_items': '0', 'min_items': '0'}, 'format_': '', 'description': '', 'nullable': False, 'enum': [], 'max_items': '0', 'min_items': '0', 'properties': {}, 'required': []}}, 'required': ['user', 'addresses'], 'format_': '', 'nullable': False, 'enum': [], 'max_items': '0', 'min_items': '0'}}\n",
            "content='' additional_kwargs={'function_call': {'name': 'validate_user', 'arguments': '{\"addresses\": [{\"city\": \"Kasur\", \"street\": \"St No. 2\", \"state\": \"Punjab\"}], \"user\": [{\"name\": \"Muhammad Saqlain\", \"user_id\": 12.0}]}'}} response_metadata={'prompt_feedback': {'block_reason': 0, 'safety_ratings': []}, 'finish_reason': 'STOP', 'safety_ratings': [{'category': 'HARM_CATEGORY_DANGEROUS_CONTENT', 'probability': 'NEGLIGIBLE', 'blocked': False}, {'category': 'HARM_CATEGORY_HARASSMENT', 'probability': 'NEGLIGIBLE', 'blocked': False}, {'category': 'HARM_CATEGORY_HATE_SPEECH', 'probability': 'NEGLIGIBLE', 'blocked': False}, {'category': 'HARM_CATEGORY_SEXUALLY_EXPLICIT', 'probability': 'NEGLIGIBLE', 'blocked': False}]} id='run-3463233b-fa68-4404-b64a-bf36824560d4-0' tool_calls=[{'name': 'validate_user', 'args': {'addresses': [{'city': 'Kasur', 'street': 'St No. 2', 'state': 'Punjab'}], 'user': [{'name': 'Muhammad Saqlain', 'user_id': 12.0}]}, 'id': '12e9f943-9655-475d-9860-5bad7d07d54b', 'type': 'tool_call'}] usage_metadata={'input_tokens': 216, 'output_tokens': 59, 'total_tokens': 275}\n"
          ]
        }
      ]
    },
    {
      "cell_type": "markdown",
      "source": [
        "### Step 8: Define State and LLM Node Function"
      ],
      "metadata": {
        "id": "HSCMM71WtNPx"
      }
    },
    {
      "cell_type": "code",
      "source": [
        "from typing_extensions import TypedDict\n",
        "class llm_with_tools_State(TypedDict):\n",
        "    messages: list\n",
        "\n",
        "def llm_node(state: llm_with_tools_State):\n",
        "    messages = state[\"messages\"]\n",
        "    call_response = llm_with_tools.invoke(messages)\n",
        "    messages.append(call_response)\n",
        "    return {\"messages\": messages}\n",
        "    # return {\"messages\": [call_response]}"
      ],
      "metadata": {
        "id": "Jq2LqhOQMo0_"
      },
      "execution_count": 57,
      "outputs": []
    },
    {
      "cell_type": "markdown",
      "source": [
        "### Step 9: Build State Graph"
      ],
      "metadata": {
        "id": "kpDkv8QFtXMh"
      }
    },
    {
      "cell_type": "code",
      "source": [
        "from langgraph.graph import StateGraph, START, END\n",
        "\n",
        "builder: StateGraph = StateGraph(llm_with_tools_State)\n",
        "\n",
        "# define nodes\n",
        "builder.add_node(\"node_1\", llm_node)\n",
        "\n",
        "# define edges\n",
        "builder.add_edge(START, \"node_1\")\n",
        "builder.add_edge(\"node_1\", END)\n",
        "\n",
        "# build the graph\n",
        "graph = builder.compile()"
      ],
      "metadata": {
        "id": "vFaiQp36kRl7"
      },
      "execution_count": 60,
      "outputs": []
    },
    {
      "cell_type": "markdown",
      "source": [
        "### Step 10: Display State Graph Diagram"
      ],
      "metadata": {
        "id": "8dwZgD2ftaJ4"
      }
    },
    {
      "cell_type": "code",
      "source": [
        "from IPython.display import display, Image\n",
        "display(Image(graph.get_graph().draw_mermaid_png()))"
      ],
      "metadata": {
        "colab": {
          "base_uri": "https://localhost:8080/",
          "height": 251
        },
        "id": "B56BUsz5lUor",
        "outputId": "756d474a-b4cb-4d56-8718-55c19e7309bf"
      },
      "execution_count": 61,
      "outputs": [
        {
          "output_type": "display_data",
          "data": {
            "image/jpeg": "[encoded data removed]",
            "text/plain": [
              "<IPython.core.display.Image object>"
            ]
          },
          "metadata": {}
        }
      ]
    },
    {
      "cell_type": "code",
      "source": [
        "graph.invoke({\"messages\": [HumanMessage(content=\"Hello\")]})"
      ],
      "metadata": {
        "colab": {
          "base_uri": "https://localhost:8080/"
        },
        "id": "9R4WLPv5o_JB",
        "outputId": "f84c7097-e560-4d18-ecab-0a1b18420d3c"
      },
      "execution_count": 62,
      "outputs": [
        {
          "output_type": "stream",
          "name": "stdout",
          "text": [
            "{'name': 'validate_user', 'description': 'Validate user using historical addresses.\\n\\n    Args:\\n        user: List[User].\\n        addresses: List[Address].', 'parameters': {'type_': 6, 'description': 'Validate user using historical addresses.\\n\\nArgs:\\n    user: List[User].\\n    addresses: List[Address].', 'properties': {'user': {'type_': 5, 'items': {'type_': 6, 'properties': {'user_id': {'type_': 3, 'format_': '', 'description': '', 'nullable': False, 'enum': [], 'max_items': '0', 'min_items': '0', 'properties': {}, 'required': []}, 'name': {'type_': 1, 'format_': '', 'description': '', 'nullable': False, 'enum': [], 'max_items': '0', 'min_items': '0', 'properties': {}, 'required': []}}, 'required': ['user_id', 'name'], 'format_': '', 'description': '', 'nullable': False, 'enum': [], 'max_items': '0', 'min_items': '0'}, 'format_': '', 'description': '', 'nullable': False, 'enum': [], 'max_items': '0', 'min_items': '0', 'properties': {}, 'required': []}, 'addresses': {'type_': 5, 'items': {'type_': 6, 'properties': {'city': {'type_': 1, 'format_': '', 'description': '', 'nullable': False, 'enum': [], 'max_items': '0', 'min_items': '0', 'properties': {}, 'required': []}, 'state': {'type_': 1, 'format_': '', 'description': '', 'nullable': False, 'enum': [], 'max_items': '0', 'min_items': '0', 'properties': {}, 'required': []}, 'street': {'type_': 1, 'format_': '', 'description': '', 'nullable': False, 'enum': [], 'max_items': '0', 'min_items': '0', 'properties': {}, 'required': []}}, 'required': ['street', 'city', 'state'], 'format_': '', 'description': '', 'nullable': False, 'enum': [], 'max_items': '0', 'min_items': '0'}, 'format_': '', 'description': '', 'nullable': False, 'enum': [], 'max_items': '0', 'min_items': '0', 'properties': {}, 'required': []}}, 'required': ['user', 'addresses'], 'format_': '', 'nullable': False, 'enum': [], 'max_items': '0', 'min_items': '0'}}\n"
          ]
        },
        {
          "output_type": "execute_result",
          "data": {
            "text/plain": [
              "{'messages': [HumanMessage(content='Hello', additional_kwargs={}, response_metadata={}),\n",
              "  AIMessage(content='Hello! How can I help you today? \\n', additional_kwargs={}, response_metadata={'prompt_feedback': {'block_reason': 0, 'safety_ratings': []}, 'finish_reason': 'STOP', 'safety_ratings': [{'category': 'HARM_CATEGORY_SEXUALLY_EXPLICIT', 'probability': 'NEGLIGIBLE', 'blocked': False}, {'category': 'HARM_CATEGORY_HATE_SPEECH', 'probability': 'NEGLIGIBLE', 'blocked': False}, {'category': 'HARM_CATEGORY_HARASSMENT', 'probability': 'NEGLIGIBLE', 'blocked': False}, {'category': 'HARM_CATEGORY_DANGEROUS_CONTENT', 'probability': 'NEGLIGIBLE', 'blocked': False}]}, id='run-5b70e503-0170-43e6-97b1-135d73347eb7-0', usage_metadata={'input_tokens': 191, 'output_tokens': 9, 'total_tokens': 200})]}"
            ]
          },
          "metadata": {},
          "execution_count": 62
        }
      ]
    },
    {
      "cell_type": "markdown",
      "source": [
        "### Step 11: Invoke Graph with User Addition Request"
      ],
      "metadata": {
        "id": "_UjdyQixthSw"
      }
    },
    {
      "cell_type": "code",
      "source": [
        "graph.invoke({\"messages\": [HumanMessage(content=\"Add Ali Raza user with 123. His address is St No. 5, Lahore, Punjab?\")]})"
      ],
      "metadata": {
        "colab": {
          "base_uri": "https://localhost:8080/"
        },
        "id": "K989CRyJpbny",
        "outputId": "b629eca0-4797-4997-b8e1-4ccef06ddb11"
      },
      "execution_count": 63,
      "outputs": [
        {
          "output_type": "stream",
          "name": "stdout",
          "text": [
            "{'name': 'validate_user', 'description': 'Validate user using historical addresses.\\n\\n    Args:\\n        user: List[User].\\n        addresses: List[Address].', 'parameters': {'type_': 6, 'description': 'Validate user using historical addresses.\\n\\nArgs:\\n    user: List[User].\\n    addresses: List[Address].', 'properties': {'user': {'type_': 5, 'items': {'type_': 6, 'properties': {'user_id': {'type_': 3, 'format_': '', 'description': '', 'nullable': False, 'enum': [], 'max_items': '0', 'min_items': '0', 'properties': {}, 'required': []}, 'name': {'type_': 1, 'format_': '', 'description': '', 'nullable': False, 'enum': [], 'max_items': '0', 'min_items': '0', 'properties': {}, 'required': []}}, 'required': ['user_id', 'name'], 'format_': '', 'description': '', 'nullable': False, 'enum': [], 'max_items': '0', 'min_items': '0'}, 'format_': '', 'description': '', 'nullable': False, 'enum': [], 'max_items': '0', 'min_items': '0', 'properties': {}, 'required': []}, 'addresses': {'type_': 5, 'items': {'type_': 6, 'properties': {'city': {'type_': 1, 'format_': '', 'description': '', 'nullable': False, 'enum': [], 'max_items': '0', 'min_items': '0', 'properties': {}, 'required': []}, 'state': {'type_': 1, 'format_': '', 'description': '', 'nullable': False, 'enum': [], 'max_items': '0', 'min_items': '0', 'properties': {}, 'required': []}, 'street': {'type_': 1, 'format_': '', 'description': '', 'nullable': False, 'enum': [], 'max_items': '0', 'min_items': '0', 'properties': {}, 'required': []}}, 'required': ['street', 'city', 'state'], 'format_': '', 'description': '', 'nullable': False, 'enum': [], 'max_items': '0', 'min_items': '0'}, 'format_': '', 'description': '', 'nullable': False, 'enum': [], 'max_items': '0', 'min_items': '0', 'properties': {}, 'required': []}}, 'required': ['user', 'addresses'], 'format_': '', 'nullable': False, 'enum': [], 'max_items': '0', 'min_items': '0'}}\n"
          ]
        },
        {
          "output_type": "execute_result",
          "data": {
            "text/plain": [
              "{'messages': [HumanMessage(content='Add Ali Raza user with 123. His address is St No. 5, Lahore, Punjab?', additional_kwargs={}, response_metadata={}),\n",
              "  AIMessage(content='', additional_kwargs={'function_call': {'name': 'validate_user', 'arguments': '{\"user\": [{\"name\": \"Ali Raza\", \"user_id\": 123.0}], \"addresses\": [{\"street\": \"St No. 5\", \"city\": \"Lahore\", \"state\": \"Punjab\"}]}'}}, response_metadata={'prompt_feedback': {'block_reason': 0, 'safety_ratings': []}, 'finish_reason': 'STOP', 'safety_ratings': [{'category': 'HARM_CATEGORY_HATE_SPEECH', 'probability': 'NEGLIGIBLE', 'blocked': False}, {'category': 'HARM_CATEGORY_DANGEROUS_CONTENT', 'probability': 'NEGLIGIBLE', 'blocked': False}, {'category': 'HARM_CATEGORY_SEXUALLY_EXPLICIT', 'probability': 'NEGLIGIBLE', 'blocked': False}, {'category': 'HARM_CATEGORY_HARASSMENT', 'probability': 'NEGLIGIBLE', 'blocked': False}]}, id='run-8d8e5dec-9a45-405a-80c4-033f2237414d-0', tool_calls=[{'name': 'validate_user', 'args': {'user': [{'name': 'Ali Raza', 'user_id': 123.0}], 'addresses': [{'street': 'St No. 5', 'city': 'Lahore', 'state': 'Punjab'}]}, 'id': '57705956-4a23-4780-b278-d26f07c549ab', 'type': 'tool_call'}], usage_metadata={'input_tokens': 213, 'output_tokens': 58, 'total_tokens': 271})]}"
            ]
          },
          "metadata": {},
          "execution_count": 63
        }
      ]
    }
  ]
}